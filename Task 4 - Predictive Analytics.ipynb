{
 "cells": [
  {
   "cell_type": "code",
   "execution_count": 1,
   "id": "2c5f81bf",
   "metadata": {},
   "outputs": [
    {
     "name": "stdout",
     "output_type": "stream",
     "text": [
      "<class 'pandas.core.frame.DataFrame'>\n",
      "RangeIndex: 733481 entries, 0 to 733480\n",
      "Data columns (total 23 columns):\n",
      " #   Column              Non-Null Count   Dtype  \n",
      "---  ------              --------------   -----  \n",
      " 0   start_date          733481 non-null  object \n",
      " 1   end_date            733481 non-null  object \n",
      " 2   start_time_hourly   733481 non-null  int64  \n",
      " 3   end_time_hourly     733481 non-null  int64  \n",
      " 4   start_station_id    733481 non-null  int64  \n",
      " 5   end_station_id      733481 non-null  int64  \n",
      " 6   start_latitude      733481 non-null  float64\n",
      " 7   start_longitude     733481 non-null  float64\n",
      " 8   end_latitude        733481 non-null  float64\n",
      " 9   end_longitude       733481 non-null  float64\n",
      " 10  min_temp            733481 non-null  float64\n",
      " 11  max_temp            733481 non-null  float64\n",
      " 12  precip              733481 non-null  float64\n",
      " 13  user_type           733481 non-null  object \n",
      " 14  dayOfWeek           733481 non-null  int64  \n",
      " 15  isWeekend           733481 non-null  bool   \n",
      " 16  season              733481 non-null  object \n",
      " 17  isHoliday           733481 non-null  bool   \n",
      " 18  isRushhour          733481 non-null  bool   \n",
      " 19  tripduration_sec    733481 non-null  int64  \n",
      " 20  numOfRentedBikes    733481 non-null  int64  \n",
      " 21  start_station_name  733481 non-null  object \n",
      " 22  end_station_name    733481 non-null  object \n",
      "dtypes: bool(3), float64(7), int64(7), object(6)\n",
      "memory usage: 114.0+ MB\n"
     ]
    }
   ],
   "source": [
    "# import all necessary packages\n",
    "import pandas as pd\n",
    "import numpy as np\n",
    "import json\n",
    "import datetime\n",
    "#import seaborn as sns\n",
    "#import matplotlib as mlp\n",
    "import matplotlib.pyplot as plt\n",
    "#from datetime import datetime\n",
    "from sklearn.pipeline import Pipeline\n",
    "from sklearn.compose import ColumnTransformer\n",
    "from sklearn.preprocessing import OneHotEncoder, StandardScaler\n",
    "from sklearn.metrics import r2_score\n",
    "\n",
    "# import dataset\n",
    "dfPhiladelphia = pd.read_csv(\"data/tmp/dfPhiladelphia.csv.zip\")\n",
    "dfPhiladelphia.info()"
   ]
  },
  {
   "cell_type": "markdown",
   "id": "080c5d1f",
   "metadata": {},
   "source": [
    "# 4. Predictive Analytics"
   ]
  },
  {
   "cell_type": "markdown",
   "id": "5ed39e29",
   "metadata": {},
   "source": [
    "- Since the **total system-level demand in the next hour** is of our interest, the station-dependent demand is not needed in this task.\n",
    "- Our target value is `y = numOfRentedBikes`"
   ]
  },
  {
   "cell_type": "markdown",
   "id": "8b6eade3",
   "metadata": {},
   "source": [
    "## 4.1 Feature Engineering"
   ]
  },
  {
   "cell_type": "markdown",
   "id": "3465f3a0",
   "metadata": {},
   "source": [
    "In this subtask, we will:\n",
    "- Develop a rich set of features that we expect to be correlated with our target\n",
    "- We will justify the selection of features"
   ]
  },
  {
   "cell_type": "code",
   "execution_count": 2,
   "id": "95dcc6af",
   "metadata": {
    "scrolled": false
   },
   "outputs": [
    {
     "name": "stdout",
     "output_type": "stream",
     "text": [
      "<class 'pandas.core.frame.DataFrame'>\n",
      "RangeIndex: 733481 entries, 0 to 733480\n",
      "Data columns (total 23 columns):\n",
      " #   Column              Non-Null Count   Dtype  \n",
      "---  ------              --------------   -----  \n",
      " 0   start_date          733481 non-null  object \n",
      " 1   end_date            733481 non-null  object \n",
      " 2   start_time_hourly   733481 non-null  int64  \n",
      " 3   end_time_hourly     733481 non-null  int64  \n",
      " 4   start_station_id    733481 non-null  int64  \n",
      " 5   end_station_id      733481 non-null  int64  \n",
      " 6   start_latitude      733481 non-null  float64\n",
      " 7   start_longitude     733481 non-null  float64\n",
      " 8   end_latitude        733481 non-null  float64\n",
      " 9   end_longitude       733481 non-null  float64\n",
      " 10  min_temp            733481 non-null  float64\n",
      " 11  max_temp            733481 non-null  float64\n",
      " 12  precip              733481 non-null  float64\n",
      " 13  user_type           733481 non-null  object \n",
      " 14  dayOfWeek           733481 non-null  int64  \n",
      " 15  isWeekend           733481 non-null  bool   \n",
      " 16  season              733481 non-null  object \n",
      " 17  isHoliday           733481 non-null  bool   \n",
      " 18  isRushhour          733481 non-null  bool   \n",
      " 19  tripduration_sec    733481 non-null  int64  \n",
      " 20  numOfRentedBikes    733481 non-null  int64  \n",
      " 21  start_station_name  733481 non-null  object \n",
      " 22  end_station_name    733481 non-null  object \n",
      "dtypes: bool(3), float64(7), int64(7), object(6)\n",
      "memory usage: 114.0+ MB\n"
     ]
    }
   ],
   "source": [
    "dfPhiladelphia.info()"
   ]
  },
  {
   "cell_type": "markdown",
   "id": "f83749ad",
   "metadata": {},
   "source": [
    "The feature creation process was already done in task 1: This are all features which we created in Task 1"
   ]
  },
  {
   "cell_type": "markdown",
   "id": "410e31f8",
   "metadata": {},
   "source": [
    "**Remove unnecessary features**\n",
    "\n",
    "We won't need:\n",
    "- 'end_date', because\n",
    "- 'end_time_hourly', because\n",
    "- 'start_station_id', because we are interested in the **total system-level demand in the next hour**\n",
    "- 'end_station_id', because\n",
    "- 'start_latitude', because\n",
    "- 'start_longitude', because\n",
    "- 'end_latitude', because\n",
    "- 'end_longitude', because\n",
    "- 'start_station_name', because\n",
    "- 'end_station_name', because\n",
    "- 'tripduration_sec', because\n",
    "\n",
    "We will need:\n",
    "- 'start_date', because\n",
    "- 'start_time_hourly', because\n",
    "- 'numOfRentedBikes', because\n",
    "\n",
    "We will test/evaluate if we need the following features, in a later step (x.x.x):\n",
    "- 'min_temp', because\n",
    "- 'max_temp', because\n",
    "- 'precip', because\n",
    "- 'user_type', because\n",
    "- 'dayOfWeek', because\n",
    "- 'isWeekend', because\n",
    "- 'season', because\n",
    "- 'isHoliday', because\n",
    "- 'isRushhour', because\n",
    "- #'tripLengthDistance', because"
   ]
  },
  {
   "cell_type": "code",
   "execution_count": 3,
   "id": "eea3eb6b",
   "metadata": {},
   "outputs": [],
   "source": [
    "#Take only necessary columns (implicit drop of unselected columns)\n",
    "dfPhiladelphia = dfPhiladelphia[['start_date',\n",
    "                                 'start_time_hourly',\n",
    "                                 'min_temp',\n",
    "                                 'max_temp',\n",
    "                                 'precip',\n",
    "                                 'user_type',\n",
    "                                 'dayOfWeek',\n",
    "                                 'isWeekend',\n",
    "                                 'season',\n",
    "                                 'isHoliday',\n",
    "                                 'isRushhour',\n",
    "                                 #'tripLengthDistance',\n",
    "                                 'numOfRentedBikes'\n",
    "                                ]]"
   ]
  },
  {
   "cell_type": "markdown",
   "id": "a7d2e7bd",
   "metadata": {},
   "source": [
    "### 4.1.1 Dummy Feature Creation (maybe after evaluation)\n",
    "- We already created all features we need in Task 1, but we need to change some features into dummy variables to assure predictive performance"
   ]
  },
  {
   "cell_type": "code",
   "execution_count": 4,
   "id": "00fd1738",
   "metadata": {},
   "outputs": [],
   "source": [
    "# here just 2 blocks of code"
   ]
  },
  {
   "cell_type": "markdown",
   "id": "34f4161c",
   "metadata": {},
   "source": [
    "### 4.1.2 Justify the selection of features / (Feature evaluation)"
   ]
  },
  {
   "cell_type": "code",
   "execution_count": 5,
   "id": "d16e7f6f",
   "metadata": {},
   "outputs": [],
   "source": [
    "# Variance criteria or correlation criteria or filtering or embedded methods\n",
    "# we will take variance & correlations"
   ]
  },
  {
   "cell_type": "markdown",
   "id": "1fead4f6",
   "metadata": {},
   "source": [
    "#### Variance:"
   ]
  },
  {
   "cell_type": "code",
   "execution_count": 6,
   "id": "6aacc14c",
   "metadata": {
    "scrolled": false
   },
   "outputs": [
    {
     "data": {
      "text/plain": [
       "start_time_hourly      24.980862\n",
       "min_temp               87.457681\n",
       "max_temp               87.615618\n",
       "precip                  0.042017\n",
       "dayOfWeek               3.747954\n",
       "isWeekend               0.183420\n",
       "isHoliday               0.020595\n",
       "isRushhour              0.249996\n",
       "numOfRentedBikes     7759.717475\n",
       "dtype: float64"
      ]
     },
     "execution_count": 6,
     "metadata": {},
     "output_type": "execute_result"
    }
   ],
   "source": [
    "#### take out features which will become dummys\n",
    "#### season and so on missing, but we do know the variance because, we defined it\n",
    "dfPhiladelphia[['start_time_hourly', 'min_temp', 'max_temp', 'precip', 'dayOfWeek', 'isWeekend', 'isHoliday', 'isRushhour', 'numOfRentedBikes']].var()"
   ]
  },
  {
   "cell_type": "code",
   "execution_count": 7,
   "id": "8d147a0a",
   "metadata": {},
   "outputs": [],
   "source": [
    "# min_temp & max_temp same variance => validate if they have different values"
   ]
  },
  {
   "cell_type": "code",
   "execution_count": null,
   "id": "faae603d",
   "metadata": {},
   "outputs": [],
   "source": []
  },
  {
   "cell_type": "markdown",
   "id": "67e0d564",
   "metadata": {},
   "source": [
    "#### Correlations"
   ]
  },
  {
   "cell_type": "code",
   "execution_count": 8,
   "id": "71b183aa",
   "metadata": {
    "scrolled": false
   },
   "outputs": [
    {
     "name": "stderr",
     "output_type": "stream",
     "text": [
      "/var/folders/rm/wg58__0d187f9f9gt07rpkw40000gn/T/ipykernel_4894/518247390.py:3: FutureWarning: The default value of numeric_only in DataFrame.corr is deprecated. In a future version, it will default to False. Select only valid columns or specify the value of numeric_only to silence this warning.\n",
      "  corr = dfPhiladelphia.corr()\n"
     ]
    },
    {
     "data": {
      "image/png": "[encoded data removed]",
      "text/plain": [
       "<Figure size 1152x648 with 2 Axes>"
      ]
     },
     "metadata": {
      "needs_background": "light"
     },
     "output_type": "display_data"
    }
   ],
   "source": [
    "######## make named features like season to 0/1/2/3 so they show up here, before we make them a dummy variable like hours\n",
    "import seaborn as sns\n",
    "corr = dfPhiladelphia.corr()\n",
    "plt.figure(figsize = (16,9))\n",
    "ax = sns.heatmap(corr, vmin = -1, vmax= 1, center = 0, annot=True)\n",
    "\n",
    "ax.set_xticklabels(ax.get_xticklabels(),\n",
    "                  rotation = 45,\n",
    "                  horizontalalignment = 'right')\n",
    "\n",
    "ax.set_yticklabels(ax.get_yticklabels(),\n",
    "                   rotation =0,\n",
    "                   horizontalalignment = 'right')\n",
    "\n",
    "plt.show()"
   ]
  },
  {
   "cell_type": "markdown",
   "id": "3112cd94",
   "metadata": {},
   "source": [
    "#### Numerical feature selection:\n",
    " \n",
    "We will drop `max_temp` or `min_temp`, because they are perfectly correlated.\n",
    "\n",
    "In addition to that we will also drop `dayOfWeek`. This is because the correlation between `dayOfWeek` and `isWeekend` as well as the correlation between `dayOfWeek` and `isHoliday` is higher than its correlation with `numOfRentedBikes`. Because the correlation of `isWeekend` and `isHoliday` is lower than the correlation of `dayOfWeek` and `isWeekend` as well as the correlation between `dayOfWeek` and `isHoliday`, we drop `dayOfWeek`."
   ]
  },
  {
   "cell_type": "code",
   "execution_count": 9,
   "id": "f574cf25",
   "metadata": {},
   "outputs": [],
   "source": [
    "dfPhiladelphia = dfPhiladelphia[['start_date',\n",
    "                                 'start_time_hourly',\n",
    "                                 'max_temp',\n",
    "                                 'precip',\n",
    "                                 'user_type',\n",
    "                                 'isWeekend',\n",
    "                                 'season',\n",
    "                                 'isHoliday',\n",
    "                                 'isRushhour',\n",
    "                                 #'tripLengthDistance',\n",
    "                                 'numOfRentedBikes'\n",
    "                                ]]\n",
    "\n"
   ]
  },
  {
   "cell_type": "markdown",
   "id": "a6c17dec",
   "metadata": {},
   "source": [
    "### 4.1.3 (Visualisation of dependencies)"
   ]
  },
  {
   "cell_type": "code",
   "execution_count": null,
   "id": "8758d0cc",
   "metadata": {},
   "outputs": [],
   "source": []
  },
  {
   "cell_type": "code",
   "execution_count": null,
   "id": "343a7361",
   "metadata": {},
   "outputs": [],
   "source": []
  },
  {
   "cell_type": "markdown",
   "id": "f1afb997",
   "metadata": {},
   "source": [
    "### 4.1.x DUMMY MAYBE HERE"
   ]
  },
  {
   "cell_type": "markdown",
   "id": "50a6ff01",
   "metadata": {},
   "source": [
    "## 4.2 Model Building & Evaluation"
   ]
  },
  {
   "cell_type": "markdown",
   "id": "29bf19f9",
   "metadata": {},
   "source": [
    "**Normalize the input values**"
   ]
  },
  {
   "cell_type": "code",
   "execution_count": 10,
   "id": "5305841f",
   "metadata": {},
   "outputs": [],
   "source": [
    "#set output frame and input frame\n",
    "#x = dfPhiladelphia#[[#list all selected input features#]]  \n",
    "\n",
    "#y = dfPhiladelphia['numOfRentedBikes']"
   ]
  },
  {
   "cell_type": "code",
   "execution_count": 11,
   "id": "40ea06b8",
   "metadata": {},
   "outputs": [],
   "source": [
    "def pipeline_for_prediction(categoric, numeric, model):\n",
    "    \n",
    "    numeric_transformer = Pipeline(steps=[(\"standard_scaler\", StandardScaler())])\n",
    "    categorical_transformer = Pipeline(\n",
    "        steps=[(\"one_hot_encoder\", OneHotEncoder(handle_unknown=\"ignore\"))]\n",
    "    )\n",
    "    preprocessor = ColumnTransformer(\n",
    "        transformers=[\n",
    "            (\"numerical scaler\", numeric_transformer, numeric),\n",
    "            (\"one hot encoder\", categorical_transformer, categoric),\n",
    "        ]\n",
    "    )\n",
    "    pipeline = Pipeline(\n",
    "        steps=[(\"preprocessor\", preprocessor), (\"model\", model)]\n",
    "    )\n",
    "    return pipeline"
   ]
  },
  {
   "cell_type": "code",
   "execution_count": 12,
   "id": "6e38ea49",
   "metadata": {},
   "outputs": [],
   "source": [
    "categoric = ['start_date', 'user_type', 'season','precip']\n",
    "numeric = ['start_time_hourly','max_temp','isWeekend','isHoliday','isRushhour']"
   ]
  },
  {
   "cell_type": "code",
   "execution_count": 13,
   "id": "5aa576f1",
   "metadata": {},
   "outputs": [],
   "source": [
    "# Normalize the data\n",
    "\n",
    "#from sklearn.preprocessing import StandardScaler\n",
    "#scaler = StandardScaler()\n",
    "\n",
    "#x_norm_numeric = scaler.fit_transform(x_numeric)\n",
    "\n",
    "\n",
    "# transform categorical variables (or splitting date in day-month-year)"
   ]
  },
  {
   "cell_type": "markdown",
   "id": "06568646",
   "metadata": {},
   "source": [
    "**Split the dataset in trainset, validationset and testset (50-20-30)**"
   ]
  },
  {
   "cell_type": "code",
   "execution_count": 14,
   "id": "7b7897d4",
   "metadata": {},
   "outputs": [],
   "source": [
    "from sklearn.model_selection import train_test_split\n",
    "\n",
    "#split the data set in 70% training set and 30% testing set\n",
    "#x_train, x_test, y_train, y_test = train_test_split(x_norm, y, test_size=0.3,random_state=42)\n",
    "x_train, x_test, y_train, y_test = train_test_split(dfPhiladelphia.drop('numOfRentedBikes', axis=1), dfPhiladelphia['numOfRentedBikes'], \n",
    "                                                    test_size=0.3,random_state=42)\n",
    "\n",
    "# save the combination of training and validation set in extra variables\n",
    "x_train_val = x_train\n",
    "y_train_val = y_train\n",
    "\n",
    "#split the training data set in 70% training set and 20% validation set to achieve a 50-20-30 split\n",
    "x_train, x_val, y_train, y_val = train_test_split(x_train, y_train, test_size=(0.2/0.7), random_state = 42)"
   ]
  },
  {
   "cell_type": "markdown",
   "id": "00a407aa",
   "metadata": {},
   "source": [
    "**We now have the following datasets:**\n",
    "- x_train, y_train &rarr; 50% input features for training the model\n",
    "- x_val, y_val &rarr; 20% to select hyperparameters\n",
    "- x_test, y_test &rarr; 30% to control the accurancy of the model"
   ]
  },
  {
   "cell_type": "markdown",
   "id": "44f7965f",
   "metadata": {},
   "source": [
    "### 4.2.1 First Regression (Maybe Lasso)"
   ]
  },
  {
   "cell_type": "markdown",
   "id": "9dc9aa26",
   "metadata": {},
   "source": [
    "### 4.2.2 Second Regression (Maybe Support vector machine)"
   ]
  },
  {
   "cell_type": "code",
   "execution_count": 15,
   "id": "b11607de",
   "metadata": {},
   "outputs": [],
   "source": [
    "from sklearn.svm import SVR"
   ]
  },
  {
   "cell_type": "markdown",
   "id": "9db99b39",
   "metadata": {},
   "source": [
    "Creating SVR models with different kernels and looking for the best kernel to use."
   ]
  },
  {
   "cell_type": "markdown",
   "id": "9c23b5a4",
   "metadata": {},
   "source": [
    "**SVR with linear kernel**"
   ]
  },
  {
   "cell_type": "code",
   "execution_count": 16,
   "id": "be7be3c6",
   "metadata": {},
   "outputs": [
    {
     "data": {
      "text/plain": [
       "Pipeline(steps=[('preprocessor',\n",
       "                 ColumnTransformer(transformers=[('numerical scaler',\n",
       "                                                  Pipeline(steps=[('standard_scaler',\n",
       "                                                                   StandardScaler())]),\n",
       "                                                  ['start_time_hourly',\n",
       "                                                   'max_temp', 'isWeekend',\n",
       "                                                   'isHoliday', 'isRushhour']),\n",
       "                                                 ('one hot encoder',\n",
       "                                                  Pipeline(steps=[('one_hot_encoder',\n",
       "                                                                   OneHotEncoder(handle_unknown='ignore'))]),\n",
       "                                                  ['start_date', 'user_type',\n",
       "                                                   'season', 'precip'])])),\n",
       "                ('model', SVR(kernel='linear'))])"
      ]
     },
     "execution_count": 16,
     "metadata": {},
     "output_type": "execute_result"
    }
   ],
   "source": [
    "svr_linear = SVR(kernel = 'linear')\n",
    "\n",
    "svr_pipeline = pipeline_for_prediction(categoric, numeric, svr_linear)\n",
    "\n",
    "svr_pipeline\n"
   ]
  },
  {
   "cell_type": "code",
   "execution_count": null,
   "id": "9784fde8",
   "metadata": {},
   "outputs": [],
   "source": [
    "%timeit lin_fit = svr_pipeline.fit(x_train, y_train)"
   ]
  },
  {
   "cell_type": "code",
   "execution_count": null,
   "id": "994ff21d",
   "metadata": {},
   "outputs": [],
   "source": [
    "y_lin_predict = lin_fit.predict(x_val)"
   ]
  },
  {
   "cell_type": "code",
   "execution_count": null,
   "id": "9cffcec7",
   "metadata": {},
   "outputs": [],
   "source": [
    "print('The R^2 is:',r2_score(y_val, y_lin_predict))"
   ]
  },
  {
   "cell_type": "markdown",
   "id": "08a4b5fd",
   "metadata": {},
   "source": [
    "**SVR with poly kernel (degree: 2)**"
   ]
  },
  {
   "cell_type": "code",
   "execution_count": null,
   "id": "62fb6b34",
   "metadata": {},
   "outputs": [],
   "source": [
    "# svr_poly2 = SVR(kernel = 'poly',degree = 2 ,max_iter = 7500, cache_size = 6000)\n",
    "# poly2_fit = svr_poly2.fit(x_train, y_train)"
   ]
  },
  {
   "cell_type": "code",
   "execution_count": null,
   "id": "8b6f3160",
   "metadata": {},
   "outputs": [],
   "source": [
    "# y_poly2_predict = lin_fit.predict(x_val) or using x_val ? "
   ]
  },
  {
   "cell_type": "code",
   "execution_count": null,
   "id": "594ff2b7",
   "metadata": {},
   "outputs": [],
   "source": [
    "# print('The R^2 is: ',r2_score(y_val, y_poly2_predict))"
   ]
  },
  {
   "cell_type": "markdown",
   "id": "a6e8145d",
   "metadata": {},
   "source": [
    "**SVR with poly kernel (degree: 3)**"
   ]
  },
  {
   "cell_type": "code",
   "execution_count": null,
   "id": "2f054b09",
   "metadata": {},
   "outputs": [],
   "source": [
    "# svr_poly3 = SVR(kernel = 'poly', degree = 3, max_iter = 7500, cache_size = 6000)\n",
    "# poly3_fit = svr_poly3.fit(x_train, y_train)"
   ]
  },
  {
   "cell_type": "code",
   "execution_count": null,
   "id": "cba7c54e",
   "metadata": {},
   "outputs": [],
   "source": [
    "# y_poly3_predict = lin_fit.predict(x_val) or using x_val ? "
   ]
  },
  {
   "cell_type": "code",
   "execution_count": null,
   "id": "2a47c884",
   "metadata": {},
   "outputs": [],
   "source": [
    "# print('The R^2 is: ',r2_score(y_val, y_poly3_predict))"
   ]
  },
  {
   "cell_type": "markdown",
   "id": "a1c4aa87",
   "metadata": {},
   "source": [
    "**SVR with rbf kernel**"
   ]
  },
  {
   "cell_type": "code",
   "execution_count": null,
   "id": "c5ca8ade",
   "metadata": {},
   "outputs": [],
   "source": [
    "# svr_rbf = SVR(kernel = 'rbf', max_iter = 7500, cache_size = 6000)\n",
    "# rbf_fit = svr_rbf.fit(x_train, y_train)"
   ]
  },
  {
   "cell_type": "code",
   "execution_count": null,
   "id": "4aa031f9",
   "metadata": {},
   "outputs": [],
   "source": [
    "# y_rbf_predict = lin_fit.predict(x_val) or using x_val ? "
   ]
  },
  {
   "cell_type": "code",
   "execution_count": null,
   "id": "d928179c",
   "metadata": {},
   "outputs": [],
   "source": [
    "# print('The R^2 is: ',r2_score(y_val, y_rbf_predict))"
   ]
  },
  {
   "cell_type": "markdown",
   "id": "9c2216b3",
   "metadata": {},
   "source": [
    "The best kernel (evaluated by using R^2) is ..."
   ]
  },
  {
   "cell_type": "markdown",
   "id": "12b22bd3",
   "metadata": {},
   "source": [
    "(plotting the regression line (target value) and data) ??"
   ]
  },
  {
   "cell_type": "code",
   "execution_count": null,
   "id": "f7ec6276",
   "metadata": {},
   "outputs": [],
   "source": [
    "# svr_bestkernel = SVR(kernel = '', max_iter = 7500, cache_size = 6000)"
   ]
  },
  {
   "cell_type": "markdown",
   "id": "a3eb7180",
   "metadata": {},
   "source": [
    "**Finding the best hyperparameters**"
   ]
  },
  {
   "cell_type": "markdown",
   "id": "9951046a",
   "metadata": {},
   "source": [
    "Do Grid Search: finding the best hyperparameters for our model"
   ]
  },
  {
   "cell_type": "code",
   "execution_count": null,
   "id": "c310594b",
   "metadata": {},
   "outputs": [],
   "source": [
    "# parameters = dictionary of used parameters"
   ]
  },
  {
   "cell_type": "markdown",
   "id": "6475f7ee",
   "metadata": {},
   "source": [
    "Defining between which numbers the parameters C (regularization parameter) and epsilon for the model can be. or using gamma, if rbf is best kernel (will see)."
   ]
  },
  {
   "cell_type": "code",
   "execution_count": null,
   "id": "3cd51a69",
   "metadata": {},
   "outputs": [],
   "source": [
    "# def hyperparameters (svr_rbf, x_val, y_val, numOfiter, parameters, score, verbose = True):  \n",
    "# grid_search = RandomizedSearchCV(estimator = svr_rbf, param_distributions = parameters, n_iter = numOfiter)\n",
    "\n",
    "# grid_search.fit(x_val, y_val)\n",
    "# grid_search.best_score_ (method of RandomizedSearchCV)\n",
    "# grid_search.best_params_ (method of RandomizedSearchCV)"
   ]
  },
  {
   "cell_type": "markdown",
   "id": "b5c534b4",
   "metadata": {},
   "source": [
    "The best parameters for our model with kernel ... are ..."
   ]
  },
  {
   "cell_type": "code",
   "execution_count": null,
   "id": "1b000d3c",
   "metadata": {},
   "outputs": [],
   "source": [
    "# svr_bestkernel = SVR(kernel = '', max_iter = 7500, cache_size = 6000, PARAMETER festlegen)"
   ]
  },
  {
   "cell_type": "code",
   "execution_count": null,
   "id": "2876a221",
   "metadata": {},
   "outputs": [],
   "source": [
    "# svr_bestkernel.fit(x_train, y_train)\n",
    "# y_prediction = svr_bestkernel.predict(x_test)"
   ]
  },
  {
   "cell_type": "markdown",
   "id": "fb75ed8f",
   "metadata": {},
   "source": [
    "evaluate performance"
   ]
  },
  {
   "cell_type": "code",
   "execution_count": null,
   "id": "52acb6a1",
   "metadata": {},
   "outputs": [],
   "source": [
    "# print('The R^2 is: ',r2_score(y_test, y_prediction))"
   ]
  },
  {
   "cell_type": "markdown",
   "id": "1d26dd70",
   "metadata": {},
   "source": [
    "### 4.2.3 Artificial Neural Network"
   ]
  },
  {
   "cell_type": "markdown",
   "id": "37bd4cd8",
   "metadata": {},
   "source": [
    "- Before running you have to install tensorflow: `pip install tensorflow`"
   ]
  },
  {
   "cell_type": "markdown",
   "id": "b4c5c199",
   "metadata": {},
   "source": [
    "**Building the model with the functional API of Keras:**"
   ]
  },
  {
   "cell_type": "code",
   "execution_count": null,
   "id": "e5601ff1",
   "metadata": {},
   "outputs": [],
   "source": [
    "#pip install tensorflow"
   ]
  },
  {
   "cell_type": "code",
   "execution_count": null,
   "id": "84c9cbf1",
   "metadata": {},
   "outputs": [],
   "source": [
    "# Import keras libraries\n",
    "import tensorflow\n",
    "from tensorflow inport keras\n",
    "from keras import layers"
   ]
  },
  {
   "cell_type": "code",
   "execution_count": null,
   "id": "2bbf9568",
   "metadata": {},
   "outputs": [],
   "source": [
    "###### INTEGRATE HYPERPARAMTERTUNING TIPPS!\n",
    "###### RELU IN EACH LAYER?\n",
    "\n",
    "def build_model(hp):\n",
    "    # Input Layer\n",
    "    inputs = keras.Input(shape=(8,)) # shapesize dependent of input features\n",
    "    \n",
    "    # Hidden Layers\n",
    "    ## First Hidden Layer\n",
    "    dense = layers.Dense(units=hp.Int('hidden_layer_1_units', min_value=32, max_value=256, step=32), activation='relu')\n",
    "    x = dense(inputs)\n",
    "    \n",
    "    ## Possible additional Hidden Layers\n",
    "    for i in range(hp.Int('total_added_hidden_layers', 0, 10)):\n",
    "        x = layers.Dense(units=hp.Int(f'hidden_layers_{i+2}_units', min_value=32, max_value=256, step=32), activation='relu')(x)\n",
    "    \n",
    "    # Output Layer\n",
    "    output = layers.Dense(1, activation='relu')(x)\n",
    "    \n",
    "    # Instantiate the model\n",
    "    model_ann = keras.Model(inputs, output, name='system_level_bike_rental_demand_philadelphia')\n",
    "    \n",
    "    # Compile the model\n",
    "    model_ann.compile(optimizer='Adamax', loss='mean_squared_error') # MAYBE TRY DIFFERENT OPTIMIZER\n",
    "    \n",
    "    return model_ann"
   ]
  },
  {
   "cell_type": "markdown",
   "id": "0aae2d4c",
   "metadata": {},
   "source": [
    "**Use hyperparameter tuning to find the best model:**"
   ]
  },
  {
   "cell_type": "markdown",
   "id": "f5f18665",
   "metadata": {},
   "source": [
    "You need to install keras_tuner first: You can use `pip install keras-tuner`"
   ]
  },
  {
   "cell_type": "code",
   "execution_count": null,
   "id": "4ce845ac",
   "metadata": {},
   "outputs": [],
   "source": [
    "#pip install keras-tuner"
   ]
  },
  {
   "cell_type": "code",
   "execution_count": null,
   "id": "5f485a3a",
   "metadata": {},
   "outputs": [],
   "source": [
    "import keras_tuner\n",
    "from keras_tuner.tuners import Hyperband\n",
    "import IPython"
   ]
  },
  {
   "cell_type": "markdown",
   "id": "ae9a62cb",
   "metadata": {},
   "source": [
    "Instantiate a tuner for hyperparametertuning:\n",
    "\n",
    "- We choose the HyperBand Tuner from Keras"
   ]
  },
  {
   "cell_type": "code",
   "execution_count": null,
   "id": "e12e54e5",
   "metadata": {},
   "outputs": [],
   "source": [
    "tuner = Hyperband(\n",
    "    build_model,\n",
    "    objective = 'val_loss',\n",
    "    max_epochs = 20,\n",
    "    factor = 3,\n",
    "    executions_per_trial = 1,\n",
    "    #directory = os.path.normpath('C:/#######')\n",
    "    project_name = 'kerastuner_LOG',\n",
    "    overwrite = True # deletes old LOG's\n",
    "    )"
   ]
  },
  {
   "cell_type": "markdown",
   "id": "cc543400",
   "metadata": {},
   "source": [
    "Show a summary of the search space:"
   ]
  },
  {
   "cell_type": "code",
   "execution_count": null,
   "id": "5f45984e",
   "metadata": {},
   "outputs": [],
   "source": [
    "tuner.search_space_summary()"
   ]
  },
  {
   "cell_type": "markdown",
   "id": "0d81a648",
   "metadata": {},
   "source": [
    "To clear the training outputs after each training step define a callback:"
   ]
  },
  {
   "cell_type": "code",
   "execution_count": null,
   "id": "1dc71d57",
   "metadata": {},
   "outputs": [],
   "source": [
    "class ClearTrainingOutput(keras.callbacks.Callback):\n",
    "  def on_train_end(*args, **kwargs):\n",
    "    IPython.display.clear_output(wait = True)"
   ]
  },
  {
   "cell_type": "markdown",
   "id": "4c1282b3",
   "metadata": {},
   "source": [
    "Hyperparameter Search:"
   ]
  },
  {
   "cell_type": "code",
   "execution_count": null,
   "id": "b1426206",
   "metadata": {},
   "outputs": [],
   "source": [
    "tuner.search(\n",
    "    x_train,\n",
    "    y_train,\n",
    "    validation_data=(x_val,y_val),\n",
    "    callbacks = [ClearTrainingOutput()]\n",
    "    )"
   ]
  },
  {
   "cell_type": "markdown",
   "id": "c0de966c",
   "metadata": {},
   "source": [
    "Show a summary of the results which presents the best model, the hyperparameters and the metrics:"
   ]
  },
  {
   "cell_type": "code",
   "execution_count": null,
   "id": "d787b376",
   "metadata": {},
   "outputs": [],
   "source": [
    "tuner.results_summary()"
   ]
  },
  {
   "cell_type": "markdown",
   "id": "75d87144",
   "metadata": {},
   "source": [
    "Get optimal hyperparameters:"
   ]
  },
  {
   "cell_type": "code",
   "execution_count": null,
   "id": "6e0ce2fe",
   "metadata": {},
   "outputs": [],
   "source": [
    "ann_best_hps = tuner.get_best_hyperparameters(num_trials = 1)[0]\n",
    "\n",
    "print(f\"\"\"\n",
    "The hyperparameter search is complete. \n",
    "The optimal number of units in the first hidden layer is {ann_best_hps.get('hidden_layer_1_units')} \n",
    "and the total number of hidden layers is {ann_best_hps.get('total_added_hidden_layers')+1}.\n",
    "\"\"\")"
   ]
  },
  {
   "cell_type": "markdown",
   "id": "b132baca",
   "metadata": {},
   "source": [
    "Get the best model:"
   ]
  },
  {
   "cell_type": "code",
   "execution_count": null,
   "id": "dc97ddbe",
   "metadata": {},
   "outputs": [],
   "source": [
    "model_ann = tuner.get_best_models(num_models=1)[0]"
   ]
  },
  {
   "cell_type": "markdown",
   "id": "96f0d8ea",
   "metadata": {},
   "source": [
    "Show a summary of the model:"
   ]
  },
  {
   "cell_type": "code",
   "execution_count": null,
   "id": "4a122ee8",
   "metadata": {},
   "outputs": [],
   "source": [
    "model_ann.summary()"
   ]
  },
  {
   "cell_type": "markdown",
   "id": "fd924ed3",
   "metadata": {},
   "source": [
    "Plot the model as a graph:\n",
    "\n",
    "You need to install pydot and graphivz. You can use: `conda install -c anaconda graphviz`and `conda install -c conda-forge python-graphviz` sequentially and `conda install -c conda-forge pydot`"
   ]
  },
  {
   "cell_type": "code",
   "execution_count": null,
   "id": "af96a920",
   "metadata": {},
   "outputs": [],
   "source": [
    "#pip install pydot"
   ]
  },
  {
   "cell_type": "code",
   "execution_count": null,
   "id": "b47d4d4b",
   "metadata": {},
   "outputs": [],
   "source": [
    "keras.utils.plot_model(model_ann, 'model_ann_system_level_bike_rental_demand_philadelphia.png', show_shapes=True)"
   ]
  },
  {
   "cell_type": "markdown",
   "id": "6ce19ff5",
   "metadata": {},
   "source": [
    "**Train the model:**"
   ]
  },
  {
   "cell_type": "markdown",
   "id": "f1696bd0",
   "metadata": {},
   "source": [
    "In hyperparameter tuning the model was only trained with 20 epochs because of the performance. So now we continue the training to get a optimal result."
   ]
  },
  {
   "cell_type": "markdown",
   "id": "f0fc2d36",
   "metadata": {},
   "source": [
    "Define a callback which stops earlier when their is no further improvement and which avoids overfitting:"
   ]
  },
  {
   "cell_type": "code",
   "execution_count": null,
   "id": "8814b765",
   "metadata": {},
   "outputs": [],
   "source": [
    "callback = keras.callbacks.EarlyStopping(\n",
    "    monitor='val_loss',\n",
    "    mode='min',\n",
    "    patience=50, \n",
    "    restore_best_weights=True \n",
    "    )"
   ]
  },
  {
   "cell_type": "code",
   "execution_count": null,
   "id": "7677fe12",
   "metadata": {},
   "outputs": [],
   "source": [
    "model_ann.fit(x_train, y_train, epochs=500, validation_data=(x_val,y_val), callbacks=[callback])"
   ]
  },
  {
   "cell_type": "markdown",
   "id": "ec006554",
   "metadata": {},
   "source": [
    "**Evaluation of the performance of the model:**"
   ]
  },
  {
   "cell_type": "code",
   "execution_count": null,
   "id": "83488b05",
   "metadata": {},
   "outputs": [],
   "source": [
    "pred_ann = model_ann.predict(x_test)\n",
    "\n",
    "# Calculate MAE and RMSE\n",
    "mae_ann = mean_absolute_error(y_test,pred_ann)\n",
    "rmse_ann = mean_squared_error(y_test,pred_ann)**0.5\n",
    "\n",
    "print(\"MAE:\", mae_ann)\n",
    "print(\"RMSE:\", rmse_ann)\n",
    "print(\"Accuracy:\", round((1-(mae_ann/dfPhiladelphia[\"numOfRentedBikes\"].mean()))*100,2), \"%\")"
   ]
  }
 ],
 "metadata": {
  "kernelspec": {
   "display_name": "Python 3 (ipykernel)",
   "language": "python",
   "name": "python3"
  },
  "language_info": {
   "codemirror_mode": {
    "name": "ipython",
    "version": 3
   },
   "file_extension": ".py",
   "mimetype": "text/x-python",
   "name": "python",
   "nbconvert_exporter": "python",
   "pygments_lexer": "ipython3",
   "version": "3.9.12"
  }
 },
 "nbformat": 4,
 "nbformat_minor": 5
}
