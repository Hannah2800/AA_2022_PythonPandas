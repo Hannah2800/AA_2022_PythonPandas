{
 "cells": [
  {
   "cell_type": "code",
   "execution_count": 20,
   "id": "7b059416",
   "metadata": {},
   "outputs": [
    {
     "name": "stdout",
     "output_type": "stream",
     "text": [
      "<class 'pandas.core.frame.DataFrame'>\n",
      "Index: 0 entries\n",
      "Data columns (total 23 columns):\n",
      " #   Column              Non-Null Count  Dtype \n",
      "---  ------              --------------  ----- \n",
      " 0   start_date          0 non-null      object\n",
      " 1   end_date            0 non-null      object\n",
      " 2   start_time_hourly   0 non-null      object\n",
      " 3   end_time_hourly     0 non-null      object\n",
      " 4   start_station_id    0 non-null      object\n",
      " 5   end_station_id      0 non-null      object\n",
      " 6   start_latitude      0 non-null      object\n",
      " 7   start_longitude     0 non-null      object\n",
      " 8   end_latitude        0 non-null      object\n",
      " 9   end_longitude       0 non-null      object\n",
      " 10  min_temp            0 non-null      object\n",
      " 11  max_temp            0 non-null      object\n",
      " 12  precip              0 non-null      object\n",
      " 13  user_type           0 non-null      object\n",
      " 14  dayOfWeek           0 non-null      object\n",
      " 15  isWeekend           0 non-null      object\n",
      " 16  season              0 non-null      object\n",
      " 17  isHoliday           0 non-null      object\n",
      " 18  isRushhour          0 non-null      object\n",
      " 19  tripduration_sec    0 non-null      object\n",
      " 20  numOfRentedBikes    0 non-null      object\n",
      " 21  start_station_name  0 non-null      object\n",
      " 22  end_station_name    0 non-null      object\n",
      "dtypes: object(23)\n",
      "memory usage: 0.0+ bytes\n"
     ]
    }
   ],
   "source": [
    "# import all necessary packages\n",
    "import pandas as pd\n",
    "import numpy as np\n",
    "import json\n",
    "import datetime\n",
    "import seaborn as sns\n",
    "from sklearn.preprocessing import StandardScaler\n",
    "from sklearn.decomposition import PCA\n",
    "import matplotlib as mlp\n",
    "import matplotlib.pyplot as plt\n",
    "#from geopy.distance import great_circle\n",
    "from pandas.plotting import register_matplotlib_converters\n",
    "register_matplotlib_converters()\n",
    "from datetime import datetime\n",
    "\n",
    "# import dataset\n",
    "dfPhiladelphia = pd.read_csv(\"data/tmp/dfPhiladelphia.csv.zip\")\n",
    "dfPhiladelphia.info()"
   ]
  },
  {
   "cell_type": "markdown",
   "id": "dc082a51",
   "metadata": {},
   "source": [
    "# 3. Cluster Analysis"
   ]
  },
  {
   "cell_type": "markdown",
   "id": "44e6dabe",
   "metadata": {},
   "source": [
    "We use a **Cluster Analysis** in order to identify clusters of \n",
    " - *trip types* and/or\n",
    " - *customer types*\n",
    " \n",
    "based on the bike rental demand patterns.\n",
    "\n",
    "Additionally we are interested, whether we can *label these clusters* and *cluster the locations* based on their demand pattern."
   ]
  },
  {
   "cell_type": "markdown",
   "id": "22059e84",
   "metadata": {},
   "source": [
    "## 3.1 Feature Engineering"
   ]
  },
  {
   "cell_type": "markdown",
   "id": "5b6b3014",
   "metadata": {},
   "source": [
    " - Hier die Features aus Task 1 aufführen, die wir für das Clustering benötigen"
   ]
  },
  {
   "cell_type": "markdown",
   "id": "db642a7e",
   "metadata": {},
   "source": []
  },
  {
   "cell_type": "markdown",
   "id": "41634866",
   "metadata": {},
   "source": [
    "## 3.2 Data Preparation"
   ]
  },
  {
   "cell_type": "markdown",
   "id": "8c534045",
   "metadata": {},
   "source": [
    "## 3.3 Clustering"
   ]
  }
 ],
 "metadata": {
  "kernelspec": {
   "display_name": "Python 3 (ipykernel)",
   "language": "python",
   "name": "python3"
  },
  "language_info": {
   "codemirror_mode": {
    "name": "ipython",
    "version": 3
   },
   "file_extension": ".py",
   "mimetype": "text/x-python",
   "name": "python",
   "nbconvert_exporter": "python",
   "pygments_lexer": "ipython3",
   "version": "3.9.13"
  }
 },
 "nbformat": 4,
 "nbformat_minor": 5
}
