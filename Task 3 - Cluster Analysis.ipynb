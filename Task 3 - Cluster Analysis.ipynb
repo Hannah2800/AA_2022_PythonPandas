{
 "cells": [
  {
   "cell_type": "code",
   "execution_count": 1,
   "id": "7b059416",
   "metadata": {
    "scrolled": true
   },
   "outputs": [
    {
     "name": "stdout",
     "output_type": "stream",
     "text": [
      "<class 'pandas.core.frame.DataFrame'>\n",
      "RangeIndex: 733441 entries, 0 to 733440\n",
      "Data columns (total 28 columns):\n",
      " #   Column                   Non-Null Count   Dtype  \n",
      "---  ------                   --------------   -----  \n",
      " 0   start_date               733441 non-null  object \n",
      " 1   end_date                 733441 non-null  object \n",
      " 2   start_time_hourly        733441 non-null  int64  \n",
      " 3   end_time_hourly          733441 non-null  int64  \n",
      " 4   start_station_id         733441 non-null  int64  \n",
      " 5   end_station_id           733441 non-null  int64  \n",
      " 6   start_latitude           733441 non-null  float64\n",
      " 7   start_longitude          733441 non-null  float64\n",
      " 8   end_latitude             733441 non-null  float64\n",
      " 9   end_longitude            733441 non-null  float64\n",
      " 10  min_temp                 733441 non-null  float64\n",
      " 11  max_temp                 733441 non-null  float64\n",
      " 12  isPrecip                 733441 non-null  bool   \n",
      " 13  user_type                733441 non-null  object \n",
      " 14  dayOfWeek                733441 non-null  object \n",
      " 15  isWeekend                733441 non-null  bool   \n",
      " 16  season                   733441 non-null  object \n",
      " 17  isHoliday                733441 non-null  bool   \n",
      " 18  isRushhour               733441 non-null  bool   \n",
      " 19  tripduration_sec         733441 non-null  int64  \n",
      " 20  numOfRentedBikesHourly   733441 non-null  int64  \n",
      " 21  numOfRentedBikesDaily    733441 non-null  int64  \n",
      " 22  numOfRentedBikesWeekly   733441 non-null  int64  \n",
      " 23  numOfRentedBikesMonthly  733441 non-null  int64  \n",
      " 24  start_week               733441 non-null  int64  \n",
      " 25  start_month              733441 non-null  int64  \n",
      " 26  start_station_name       733441 non-null  object \n",
      " 27  end_station_name         733441 non-null  object \n",
      "dtypes: bool(4), float64(6), int64(11), object(7)\n",
      "memory usage: 137.1+ MB\n"
     ]
    }
   ],
   "source": [
    "# import all necessary packages\n",
    "import pandas as pd\n",
    "import numpy as np\n",
    "import json\n",
    "import datetime\n",
    "import seaborn as sns\n",
    "from sklearn.preprocessing import StandardScaler\n",
    "from sklearn.decomposition import PCA\n",
    "import matplotlib as mlp\n",
    "import matplotlib.pyplot as plt\n",
    "#from geopy.distance import great_circle\n",
    "from pandas.plotting import register_matplotlib_converters\n",
    "register_matplotlib_converters()\n",
    "from datetime import datetime\n",
    "\n",
    "# import dataset\n",
    "dfPhiladelphia = pd.read_csv(\"data/tmp/dfPhiladelphia.csv.zip\")\n",
    "dfPhiladelphia.info()"
   ]
  },
  {
   "cell_type": "code",
   "execution_count": null,
   "id": "ca0ae86d",
   "metadata": {},
   "outputs": [],
   "source": [
    "X = dfPhiladelphia[[\"\"]]"
   ]
  },
  {
   "cell_type": "code",
   "execution_count": null,
   "id": "c554671a",
   "metadata": {},
   "outputs": [],
   "source": [
    "from scipy.cluster.hierarchy import dendrogram\n",
    "from sklearn.cluster import AgglomerativeClustering\n",
    "\n",
    "def plot_dendrogram(model, **kwargs):\n",
    "\n",
    "    # Children of hierarchical clustering\n",
    "    children = model.children_\n",
    "\n",
    "    # Distances between each pair of children\n",
    "    # Since we don't have this information, we can use a uniform one for plotting\n",
    "    distance = np.arange(children.shape[0])\n",
    "\n",
    "    # The number of observations contained in each cluster level\n",
    "    no_of_observations = np.arange(2, children.shape[0]+2)\n",
    "\n",
    "    # Create linkage matrix and then plot the dendrogram\n",
    "    linkage_matrix = np.column_stack([children, distance, no_of_observations]).astype(float)\n",
    "\n",
    "    # Plot the corresponding dendrogram\n",
    "    dendrogram(linkage_matrix, **kwargs)\n",
    "\n",
    "\n",
    "agglo = AgglomerativeClustering(n_clusters=5) #The number of clusters to find\n",
    "y_pred_agglo = agglo.fit_predict(X_scaled)\n",
    "\n",
    "plt.figure(figsize=(15,10))\n",
    "plt.title('Hierarchical Clustering Dendrogram')\n",
    "plot_dendrogram(agglo, labels=agglo.labels_)\n",
    "plt.ylabel(\"Distance\")\n",
    "plt.show()"
   ]
  },
  {
   "cell_type": "markdown",
   "id": "dc082a51",
   "metadata": {},
   "source": [
    "# 3. Cluster Analysis"
   ]
  },
  {
   "cell_type": "markdown",
   "id": "44e6dabe",
   "metadata": {},
   "source": [
    "We use a **Cluster Analysis** in order to identify clusters of \n",
    " - *trip types* and/or\n",
    " - *customer types*\n",
    " \n",
    "based on the bike rental demand patterns.\n",
    "\n",
    "Additionally we are interested, whether we can *label these clusters* and *cluster the locations* based on their demand pattern."
   ]
  },
  {
   "cell_type": "markdown",
   "id": "22059e84",
   "metadata": {},
   "source": [
    "## 3.1 Data Prep and Scaling"
   ]
  },
  {
   "cell_type": "markdown",
   "id": "5b6b3014",
   "metadata": {},
   "source": [
    " - Hier die Features aus Task 1 aufführen, die wir für das Clustering benötigen"
   ]
  },
  {
   "cell_type": "markdown",
   "id": "db642a7e",
   "metadata": {},
   "source": []
  },
  {
   "cell_type": "markdown",
   "id": "41634866",
   "metadata": {},
   "source": [
    "## 3.2 Principal Component Analysis (PCA)\n",
    "- for dimensionality reduction"
   ]
  },
  {
   "cell_type": "markdown",
   "id": "6e70ebb1",
   "metadata": {},
   "source": [
    "## PAIRPLOT"
   ]
  },
  {
   "cell_type": "code",
   "execution_count": null,
   "id": "b410e41f",
   "metadata": {},
   "outputs": [],
   "source": [
    "#sns.pairplot(data=, hue=\"\")"
   ]
  },
  {
   "cell_type": "markdown",
   "id": "8c534045",
   "metadata": {},
   "source": [
    "## 3.3 Clustering with Dendrogram"
   ]
  },
  {
   "cell_type": "code",
   "execution_count": null,
   "id": "d2d0e9e0",
   "metadata": {},
   "outputs": [],
   "source": [
    "#from scipy.cluster.hierarchy import dendrogram\n",
    "#from sklearn.cluster import AgglomerativeClustering\n",
    "#\n",
    "#def plot_dendrogram(model, **kwargs):\n",
    "#\n",
    "#    # Children of hierarchical clustering\n",
    "#    children = model.children_\n",
    "#\n",
    "#    # Distances between each pair of children\n",
    "#    # Since we don't have this information, we can use a uniform one for plotting\n",
    "#    distance = np.arange(children.shape[0])\n",
    "#\n",
    "#    # The number of observations contained in each cluster level\n",
    "#    no_of_observations = np.arange(2, children.shape[0]+2)\n",
    "#\n",
    "#    # Create linkage matrix and then plot the dendrogram\n",
    "#    linkage_matrix = np.column_stack([children, distance, no_of_observations]).astype(float)\n",
    "#\n",
    "#    # Plot the corresponding dendrogram\n",
    "#    dendrogram(linkage_matrix, **kwargs)\n",
    "#\n",
    "#\n",
    "#agglo = AgglomerativeClustering(n_clusters=3) #The number of clusters to find\n",
    "#y_pred_agglo = agglo.fit_predict(X_scaled)\n",
    "#\n",
    "#plt.figure(figsize=(15,10))\n",
    "#plt.title('Hierarchical Clustering Dendrogram')\n",
    "#plot_dendrogram(agglo, labels=agglo.labels_)\n",
    "#plt.ylabel(\"Distance\")\n",
    "#plt.show()"
   ]
  }
 ],
 "metadata": {
  "kernelspec": {
   "display_name": "Python 3",
   "language": "python",
   "name": "python3"
  },
  "language_info": {
   "codemirror_mode": {
    "name": "ipython",
    "version": 3
   },
   "file_extension": ".py",
   "mimetype": "text/x-python",
   "name": "python",
   "nbconvert_exporter": "python",
   "pygments_lexer": "ipython3",
   "version": "3.8.5"
  }
 },
 "nbformat": 4,
 "nbformat_minor": 5
}
